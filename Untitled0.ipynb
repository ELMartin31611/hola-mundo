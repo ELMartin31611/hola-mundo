{
  "nbformat": 4,
  "nbformat_minor": 0,
  "metadata": {
    "colab": {
      "provenance": [],
      "authorship_tag": "ABX9TyOrYg3LvnG0G0c8kNrL/fcx",
      "include_colab_link": true
    },
    "kernelspec": {
      "name": "python3",
      "display_name": "Python 3"
    },
    "language_info": {
      "name": "python"
    }
  },
  "cells": [
    {
      "cell_type": "markdown",
      "metadata": {
        "id": "view-in-github",
        "colab_type": "text"
      },
      "source": [
        "<a href=\"https://colab.research.google.com/github/ELMartin31611/hola-mundo/blob/main/Untitled0.ipynb\" target=\"_parent\"><img src=\"https://colab.research.google.com/assets/colab-badge.svg\" alt=\"Open In Colab\"/></a>"
      ]
    },
    {
      "cell_type": "markdown",
      "source": [],
      "metadata": {
        "id": "RcxN7Kh7EbrZ"
      }
    },
    {
      "cell_type": "markdown",
      "source": [
        "GESTIO DE USUARIO\n"
      ],
      "metadata": {
        "id": "apJN7iFJECxp"
      }
    },
    {
      "cell_type": "markdown",
      "source": [
        "UN MENU DONDE PUEDES REGISTRAR MODIFICAR ELIMINAR Y GUARDAR USUARIOS REGISTRADOS."
      ],
      "metadata": {
        "id": "vlpyG3FCEMMa"
      }
    },
    {
      "cell_type": "code",
      "source": [
        "import re\n",
        "\n",
        "usuarios = []\n",
        "print(\"------------------ Bienvenido -------------------\")\n",
        "print(\"Por favor, regístrate\\n\")\n",
        "\n",
        "def registro():\n",
        "    while True:\n",
        "        while True:\n",
        "            nombre = input(\"Nombre: \")\n",
        "            if nombre.strip() == \"\":\n",
        "                print(\"El nombre no puede estar vacío. Por favor ingresa un nombre válido.\")\n",
        "            else:\n",
        "                break\n",
        "\n",
        "        while True:\n",
        "            try:\n",
        "                edad = int(input(\"Ingrese su edad: \"))\n",
        "                if edad <= 0:\n",
        "                    print(\"La edad debe ser un número positivo.\")\n",
        "                else:\n",
        "                    break\n",
        "            except ValueError:\n",
        "                print(\"Por favor ingresa un número válido para la edad.\")\n",
        "\n",
        "        while True:\n",
        "            correo = input(\"Ingrese su correo: \")\n",
        "            if not re.match(r\"[^@]+@[^@]+\\.[^@]+\", correo):\n",
        "                print(\"El correo ingresado no es válido. Asegúrese de que contenga '@' y un dominio.\")\n",
        "            else:\n",
        "                break\n",
        "\n",
        "        usuario = {\n",
        "            \"nombre\": nombre,\n",
        "            \"edad\": edad,\n",
        "            \"correo\": correo,\n",
        "        }\n",
        "        usuarios.append(usuario)\n",
        "        print(f\"Usuario {nombre} registrado correctamente.\\n\")\n",
        "\n",
        "        continuar = input(\"¿Deseas registrar otro usuario? (s/n): \")\n",
        "        if continuar.lower() != 's':\n",
        "            break\n",
        "\n",
        "registro()\n",
        "\n",
        "\n",
        "def listar_usuarios():\n",
        "    \"listado de todos los usuarios registrados.\"\n",
        "    if not usuarios:\n",
        "        print(\"No hay usuarios registrados.\")\n",
        "    else:\n",
        "        print(\"Lista de usuarios registrados:\")\n",
        "        for i, usuario in enumerate(usuarios, start=1):\n",
        "            print(f\"{i}. Nombre: {usuario['nombre']}, Edad: {usuario['edad']}, Correo: {usuario['correo']}.\")\n",
        "\n",
        "\n",
        "def menu():\n",
        "    \"\"\"Muestra el menú y gestiona las opciones del usuario.\"\"\"\n",
        "    while True:\n",
        "        print(\"\\n--- Menú ---\")\n",
        "        print(\"1. Agregar usuario\")\n",
        "        print(\"2. Editar usuario\")\n",
        "        print(\"3. Eliminar usuario\")\n",
        "        print(\"4. Listar usuarios\")\n",
        "        print(\"5. Salir\")\n",
        "        opcion = input(\"Seleccione una opción: \")\n",
        "\n",
        "menu()\n"
      ],
      "metadata": {
        "colab": {
          "base_uri": "https://localhost:8080/"
        },
        "id": "UyMgNHDs_s7V",
        "outputId": "b8a1572f-8695-498b-d484-5fc4f1924acd"
      },
      "execution_count": null,
      "outputs": [
        {
          "metadata": {
            "tags": null
          },
          "name": "stdout",
          "output_type": "stream",
          "text": [
            "------------------ Bienvenido -------------------\n",
            "Por favor, regístrate\n",
            "\n"
          ]
        }
      ]
    }
  ]
}