{
  "cells": [
    {
      "cell_type": "markdown",
      "metadata": {
        "id": "view-in-github",
        "colab_type": "text"
      },
      "source": [
        "<a href=\"https://colab.research.google.com/github/ELMartin31611/hola-mundo/blob/main/gestion_de_usuario.ipynb\" target=\"_parent\"><img src=\"https://colab.research.google.com/assets/colab-badge.svg\" alt=\"Open In Colab\"/></a>"
      ]
    },
    {
      "cell_type": "markdown",
      "metadata": {
        "id": "apJN7iFJECxp"
      },
      "source": [
        "GESTIO DE USUARIO\n"
      ]
    },
    {
      "cell_type": "markdown",
      "metadata": {
        "id": "vlpyG3FCEMMa"
      },
      "source": [
        "UN MENU DONDE PUEDES REGISTRAR MODIFICAR ELIMINAR Y GUARDAR USUARIOS REGISTRADOS."
      ]
    },
    {
      "cell_type": "code",
      "execution_count": null,
      "metadata": {
        "colab": {
          "base_uri": "https://localhost:8080/"
        },
        "id": "UyMgNHDs_s7V",
        "outputId": "9403e5e5-0d6a-42ae-bf70-299498b164b9"
      },
      "outputs": [
        {
          "output_type": "stream",
          "name": "stdout",
          "text": [
            "------------------ Bienvenido -------------------\n",
            "\n",
            "--- Menú ---\n",
            "1. Agregar usuario\n",
            "2. Editar usuario\n",
            "3. Eliminar usuario\n",
            "4. Listar usuarios\n",
            "5. Salir\n",
            "Seleccione una opción: 1\n",
            "Nombre: martin\n",
            "Ingrese su edad: 18\n",
            "Ingrese su correo: m@gmail.com\n",
            "Usuario martin registrado correctamente.\n",
            "\n",
            "¿Deseas registrar otro usuario? (s/n): n\n",
            "\n",
            "--- Menú ---\n",
            "1. Agregar usuario\n",
            "2. Editar usuario\n",
            "3. Eliminar usuario\n",
            "4. Listar usuarios\n",
            "5. Salir\n",
            "Seleccione una opción: 5\n",
            "Saliendo. ¡Hasta luego!\n"
          ]
        }
      ],
      "source": [
        "import re\n",
        "\n",
        "usuarios = []\n",
        "\n",
        "def registro():\n",
        "    \"\"\"Registra un nuevo usuario.\"\"\"\n",
        "    while True:\n",
        "        while True:\n",
        "            nombre = input(\"Nombre: \")\n",
        "            if nombre.strip() == \"\":\n",
        "                print(\"El nombre no puede estar vacío. Por favor ingresa un nombre válido.\")\n",
        "            else:\n",
        "                break\n",
        "\n",
        "        while True:\n",
        "            try:\n",
        "                edad = int(input(\"Ingrese su edad: \"))\n",
        "                if edad <= 0:\n",
        "                    print(\"La edad debe ser un número positivo.\")\n",
        "                else:\n",
        "                    break\n",
        "            except ValueError:\n",
        "                print(\"Por favor ingresa un número válido para la edad.\")\n",
        "\n",
        "        while True:\n",
        "            correo = input(\"Ingrese su correo: \")\n",
        "            if not re.match(r\"[^@]+@[^@]+\\.[^@]+\", correo):\n",
        "                print(\"El correo ingresado no es válido. Asegúrese de que contenga '@' y un dominio.\")\n",
        "            else:\n",
        "                break\n",
        "\n",
        "        usuario = {\n",
        "            \"nombre\": nombre,\n",
        "            \"edad\": edad,\n",
        "            \"correo\": correo,\n",
        "        }\n",
        "        usuarios.append(usuario)\n",
        "        print(f\"Usuario {nombre} registrado correctamente.\\n\")\n",
        "\n",
        "        continuar = input(\"¿Deseas registrar otro usuario? (s/n): \")\n",
        "        if continuar.lower() != 's':\n",
        "            break\n",
        "\n",
        "def listar_usuarios():\n",
        "    \"\"\"Lista todos los usuarios registrados.\"\"\"\n",
        "    if not usuarios:\n",
        "        print(\"No hay usuarios registrados.\")\n",
        "    else:\n",
        "        print(\"Lista de usuarios registrados:\")\n",
        "        for i, usuario in enumerate(usuarios, start=1):\n",
        "            print(f\"{i}. Nombre: {usuario['nombre']}, Edad: {usuario['edad']}, Correo: {usuario['correo']}.\")\n",
        "\n",
        "def editar_usuario():\n",
        "    \"\"\"Edita un usuario existente.\"\"\"\n",
        "    listar_usuarios()\n",
        "    if usuarios:\n",
        "        try:\n",
        "            indice = int(input(\"Seleccione el número del usuario que desea editar: \")) - 1\n",
        "            if 0 <= indice < len(usuarios):\n",
        "                nombre = input(\"Nuevo nombre (dejar vacío para no cambiar): \")\n",
        "                if nombre.strip() != \"\":\n",
        "                    usuarios[indice]['nombre'] = nombre\n",
        "\n",
        "                edad = input(\"Nueva edad (dejar vacío para no cambiar): \")\n",
        "                if edad.strip() != \"\":\n",
        "                    usuarios[indice]['edad'] = int(edad)\n",
        "\n",
        "                correo = input(\"Nuevo correo (dejar vacío para no cambiar): \")\n",
        "                if correo.strip() != \"\":\n",
        "                    usuarios[indice]['correo'] = correo\n",
        "\n",
        "                print(\"Usuario editado correctamente.\")\n",
        "            else:\n",
        "                print(\"Índice no válido.\")\n",
        "        except ValueError:\n",
        "            print(\"Por favor ingresa un número válido.\")\n",
        "\n",
        "def eliminar_usuario():\n",
        "    \"\"\"Elimina un usuario existente.\"\"\"\n",
        "    listar_usuarios()\n",
        "    if usuarios:\n",
        "        try:\n",
        "            indice = int(input(\"Seleccione el número del usuario que desea eliminar: \")) - 1\n",
        "            if 0 <= indice < len(usuarios):\n",
        "                usuarios.pop(indice)\n",
        "                print(\"Usuario eliminado correctamente.\")\n",
        "            else:\n",
        "                print(\"Índice no válido.\")\n",
        "        except ValueError:\n",
        "            print(\"Por favor ingresa un número válido.\")\n",
        "\n",
        "def menu():\n",
        "    \"\"\"Muestra el menú y gestiona las opciones del usuario.\"\"\"\n",
        "    while True:\n",
        "        print(\"\\n--- Menú ---\")\n",
        "        print(\"1. Agregar usuario\")\n",
        "        print(\"2. Editar usuario\")\n",
        "        print(\"3. Eliminar usuario\")\n",
        "        print(\"4. Listar usuarios\")\n",
        "        print(\"5. Salir\")\n",
        "        opcion = input(\"Seleccione una opción: \")\n",
        "\n",
        "        if opcion == '1':\n",
        "            registro()\n",
        "        elif opcion == '2':\n",
        "            editar_usuario()\n",
        "        elif opcion == '3':\n",
        "            eliminar_usuario()\n",
        "        elif opcion == '4':\n",
        "            listar_usuarios()\n",
        "        elif opcion == '5':\n",
        "            print(\"Saliendo. ¡Hasta luego!\")\n",
        "            break\n",
        "        else:\n",
        "            print(\"Opción no válida. Por favor, seleccione una opción del menú.\")\n",
        "\n",
        "print(\"------------------ Bienvenido -------------------\")\n",
        "menu()"
      ]
    }
  ],
  "metadata": {
    "colab": {
      "provenance": [],
      "authorship_tag": "ABX9TyNPpIl08Y+wPJa9EXw3RJ8r",
      "include_colab_link": true
    },
    "kernelspec": {
      "display_name": "Python 3",
      "name": "python3"
    },
    "language_info": {
      "name": "python"
    }
  },
  "nbformat": 4,
  "nbformat_minor": 0
}